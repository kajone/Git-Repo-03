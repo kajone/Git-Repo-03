{
 "cells": [
  {
   "cell_type": "code",
   "execution_count": 1,
   "metadata": {},
   "outputs": [],
   "source": [
    "# innerhalb meiner Programmierung Pandas benutzen, damit ganze Datei am Stück lesen\n",
    "import pandas as pd"
   ]
  },
  {
   "cell_type": "code",
   "execution_count": 2,
   "metadata": {},
   "outputs": [
    {
     "name": "stdout",
     "output_type": "stream",
     "text": [
      "hallo world\n"
     ]
    }
   ],
   "source": [
    "# Testausgabe\n",
    "print (\"hallo world\")"
   ]
  },
  {
   "cell_type": "code",
   "execution_count": 4,
   "metadata": {},
   "outputs": [
    {
     "name": "stdout",
     "output_type": "stream",
     "text": [
      "   Projekt Weiterentwicklung der Ausleihe und Auskunft    Unnamed: 1  \\\n",
      "0        Qualitative Erfassung der gestellten Fragen             NaN   \n",
      "1                                                 NaN            NaN   \n",
      "2                                       Kalenderwoche         23. KW   \n",
      "3                                               Theke   Ausleihtheke   \n",
      "4                                         Zweigstelle          Deutz   \n",
      "5                                             Vermerk            NaN   \n",
      "6                                     Telefonanfragen            NaN   \n",
      "7                                      1. Datenbanken              8   \n",
      "8                                     Allgemeine Info              4   \n",
      "9                                 Spezielle Recherche              4   \n",
      "10                                       2. Fernleihe             12   \n",
      "11                                           Abholung              5   \n",
      "12                                         Bestellung            NaN   \n",
      "13                                             Status              7   \n",
      "14                                     3. KatalogPlus             19   \n",
      "15                                          Recherche             13   \n",
      "16                                  E-Book/ E-Journal              1   \n",
      "17                                              LogIn              5   \n",
      "18                                         4. Bestand             19   \n",
      "19                                        Buchverkauf              4   \n",
      "20                   Standort/Mediennr. (ausleihbar?)             15   \n",
      "21                                    5. Servicetheke             45   \n",
      "22                                         Abholregal             18   \n",
      "23                               Konto/Info allgemein              8   \n",
      "24                          LFE-Verlängerung/Gebühren             11   \n",
      "25                     Anmeldung (Gäste, Mitarbeiter)              8   \n",
      "26                                                SVB            NaN   \n",
      "27                                         6. Technik             10   \n",
      "28                          Kopierer/Scanner (Defekt)            NaN   \n",
      "29                                   VPN/eduroam/WLAN              8   \n",
      "30                                            Drucken              2   \n",
      "31                                          USB Stick            NaN   \n",
      "32                                         7. Vor Ort             21   \n",
      "33                                (PC-) Arbeitsplätze              6   \n",
      "34                        Kopierer/Scanner (Standort)              5   \n",
      "35                           Räumlichkeiten allgemein             10   \n",
      "36              8. Weder noch (siehe einzelne Listen)             12   \n",
      "\n",
      "    Unnamed: 2  Unnamed: 3  Unnamed: 4  Unnamed: 5  Unnamed: 6  Unnamed: 7  \n",
      "0          NaN         NaN         NaN         NaN         NaN         NaN  \n",
      "1          NaN         NaN         NaN         NaN         NaN         NaN  \n",
      "2          NaN         NaN         NaN         NaN         NaN         NaN  \n",
      "3          NaN         NaN         NaN         NaN         NaN         NaN  \n",
      "4          NaN         NaN         NaN         NaN         NaN         NaN  \n",
      "5          NaN         NaN         NaN         NaN         NaN         NaN  \n",
      "6          NaN         NaN         NaN         NaN         NaN         NaN  \n",
      "7          NaN         NaN         NaN         NaN         NaN         NaN  \n",
      "8          NaN         NaN         NaN         NaN         NaN         NaN  \n",
      "9          NaN         NaN         NaN         NaN         NaN         NaN  \n",
      "10         NaN         NaN         NaN         NaN         NaN         NaN  \n",
      "11         NaN         NaN         NaN         NaN         NaN         NaN  \n",
      "12         NaN         NaN         NaN         NaN         NaN         NaN  \n",
      "13         NaN         NaN         NaN         NaN         NaN         NaN  \n",
      "14         NaN         NaN         NaN         NaN         NaN         NaN  \n",
      "15         NaN         NaN         NaN         NaN         NaN         NaN  \n",
      "16         NaN         NaN         NaN         NaN         NaN         NaN  \n",
      "17         NaN         NaN         NaN         NaN         NaN         NaN  \n",
      "18         NaN         NaN         NaN         NaN         NaN         NaN  \n",
      "19         NaN         NaN         NaN         NaN         NaN         NaN  \n",
      "20         NaN         NaN         NaN         NaN         NaN         NaN  \n",
      "21         NaN         NaN         NaN         NaN         NaN         NaN  \n",
      "22         NaN         NaN         NaN         NaN         NaN         NaN  \n",
      "23         NaN         NaN         NaN         NaN         NaN         NaN  \n",
      "24         NaN         NaN         NaN         NaN         NaN         NaN  \n",
      "25         NaN         NaN         NaN         NaN         NaN         NaN  \n",
      "26         NaN         NaN         NaN         NaN         NaN         NaN  \n",
      "27         NaN         NaN         NaN         NaN         NaN         NaN  \n",
      "28         NaN         NaN         NaN         NaN         NaN         NaN  \n",
      "29         NaN         NaN         NaN         NaN         NaN         NaN  \n",
      "30         NaN         NaN         NaN         NaN         NaN         NaN  \n",
      "31         NaN         NaN         NaN         NaN         NaN         NaN  \n",
      "32         NaN         NaN         NaN         NaN         NaN         NaN  \n",
      "33         NaN         NaN         NaN         NaN         NaN         NaN  \n",
      "34         NaN         NaN         NaN         NaN         NaN         NaN  \n",
      "35         NaN         NaN         NaN         NaN         NaN         NaN  \n",
      "36         NaN         NaN         NaN         NaN         NaN         NaN  \n"
     ]
    }
   ],
   "source": [
    "# Excel-Datei einlesen und ausgeben mit Pandas, sonst For-Loop bauen\n",
    "Testdaten = pd.read_excel('einzelne_Woche.xlsx')\n",
    "print (Testdaten)"
   ]
  },
  {
   "cell_type": "code",
   "execution_count": 5,
   "metadata": {},
   "outputs": [],
   "source": [
    "# seltsame Ausgabe unten, leere Zellen ohne Werte"
   ]
  },
  {
   "cell_type": "code",
   "execution_count": null,
   "metadata": {},
   "outputs": [],
   "source": []
  }
 ],
 "metadata": {
  "kernelspec": {
   "display_name": "Python 3",
   "language": "python",
   "name": "python3"
  },
  "language_info": {
   "codemirror_mode": {
    "name": "ipython",
    "version": 3
   },
   "file_extension": ".py",
   "mimetype": "text/x-python",
   "name": "python",
   "nbconvert_exporter": "python",
   "pygments_lexer": "ipython3",
   "version": "3.7.6"
  }
 },
 "nbformat": 4,
 "nbformat_minor": 4
}
